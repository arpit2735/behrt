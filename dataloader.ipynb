{
 "cells": [
  {
   "cell_type": "code",
   "execution_count": 68,
   "id": "a7feb591",
   "metadata": {},
   "outputs": [],
   "source": [
    "import numpy as np\n",
    "import pandas as pd\n",
    "import random\n",
    "import matplotlib.pyplot as plt"
   ]
  },
  {
   "cell_type": "code",
   "execution_count": 3,
   "id": "2724f78b",
   "metadata": {},
   "outputs": [],
   "source": [
    "from torch.utils.data.dataset import Dataset"
   ]
  },
  {
   "cell_type": "code",
   "execution_count": 133,
   "id": "93ae0b1c",
   "metadata": {},
   "outputs": [],
   "source": [
    "#create the dataframe\n",
    "dataframe = {}\n",
    "dataframe[\"code\"] = []\n",
    "dataframe[\"code\"].append(['abcd','efgh','ijkl','SEP','mnop','qrst','SEP','abcd','efgh','ijkl'])\n",
    "dataframe[\"code\"].append(['abcd','efgh','ijkl','SEP','mnop','qrst','SEP','abcd','efgh','ijkl','mnop','fsfe','wefe'])\n",
    "dataframe[\"code\"].append(['abcd','efgh','ijkl','SEP','mnop','qrst','SEP','abcd','efgh','ijkl'])"
   ]
  },
  {
   "cell_type": "code",
   "execution_count": 179,
   "id": "ebd2e8dc",
   "metadata": {},
   "outputs": [],
   "source": [
    "token2idx = {}\n",
    "token2idx[\"abcd\"] = 1\n",
    "token2idx[\"efgh\"] = 2\n",
    "token2idx[\"ijkl\"] = 3\n",
    "token2idx[\"mnop\"] = 4\n",
    "token2idx[\"qrst\"] = 5\n",
    "token2idx[\"fsfe\"] = 6\n",
    "token2idx[\"wefe\"] = 7\n",
    "token2idx[\"SEP\"] = 99\n",
    "token2idx[\"CLS\"] = 100\n",
    "token2idx[\"MASK\"] = 101\n",
    "token2idx[\"UNK\"] = 102\n",
    "token2idx[\"PAD\"] = 103"
   ]
  },
  {
   "cell_type": "code",
   "execution_count": 180,
   "id": "071c25bf",
   "metadata": {},
   "outputs": [],
   "source": [
    "def random_mask(tokens, token2idx):\n",
    "    output_label = []\n",
    "    output_token = []\n",
    "    for i, token in enumerate(tokens):\n",
    "        prob = random.random()\n",
    "        # mask token with 15% probability\n",
    "        if prob < 0.15:\n",
    "            prob /= 0.15\n",
    "\n",
    "            # 80% randomly change token to mask token\n",
    "            if prob < 0.8:\n",
    "                output_token.append(token2idx[\"MASK\"])\n",
    "\n",
    "            # 10% randomly change token to random token\n",
    "            elif prob < 0.9:\n",
    "                output_token.append(random.choice(list(token2idx.values())))\n",
    "\n",
    "            # -> rest 10% randomly keep current token\n",
    "\n",
    "            # append current token to output (we will predict these later\n",
    "            output_label.append(token2idx.get(token, token2idx['UNK']))\n",
    "        else:\n",
    "            # no masking token (will be ignored by loss function later)\n",
    "            output_label.append(-1)\n",
    "            output_token.append(token2idx.get(token, token2idx['UNK']))\n",
    "\n",
    "    return tokens, output_token, output_label\n"
   ]
  },
  {
   "cell_type": "code",
   "execution_count": 240,
   "id": "210b2620",
   "metadata": {},
   "outputs": [],
   "source": [
    "def seq_padding(tokens, max_len, token2idx=None, symbol=None, unkown=True):\n",
    "    if symbol is None:\n",
    "        symbol = 'PAD'\n",
    "\n",
    "    seq = []\n",
    "    token_len = len(tokens)\n",
    "    for i in range(max_len):\n",
    "        if token2idx is None:\n",
    "            if i < token_len:\n",
    "                seq.append(tokens[i])\n",
    "            else:\n",
    "                seq.append(symbol)\n",
    "        else:\n",
    "            if i < token_len:\n",
    "                # 1 indicate UNK\n",
    "                if unkown:\n",
    "                    seq.append(token2idx.get(tokens[i], token2idx['UNK']))\n",
    "                else:\n",
    "                    seq.append(token2idx.get(tokens[i]))\n",
    "            else:\n",
    "                seq.append(token2idx.get(symbol))\n",
    "    return seq"
   ]
  },
  {
   "cell_type": "code",
   "execution_count": 241,
   "id": "f2d7e70d",
   "metadata": {},
   "outputs": [],
   "source": [
    "def position_idx(tokens, symbol='SEP'):\n",
    "    pos = []\n",
    "    flag = 0\n",
    "\n",
    "    for token in tokens:\n",
    "        if token == symbol:\n",
    "            pos.append(flag)\n",
    "            flag += 1\n",
    "        else:\n",
    "            pos.append(flag)\n",
    "    return pos"
   ]
  },
  {
   "cell_type": "code",
   "execution_count": 264,
   "id": "05d2cfcf",
   "metadata": {},
   "outputs": [],
   "source": [
    "class MLMLoader(Dataset):\n",
    "    def __init__(self, dataframe, token2idx, max_len, code='code'):\n",
    "        self.vocab = token2idx\n",
    "        self.max_len = max_len\n",
    "        self.code = dataframe[code]\n",
    "        #self.age = dataframe[age]\n",
    "        #self.age2idx = age2idx\n",
    "\n",
    "    def __getitem__(self, index):\n",
    "        \"\"\"\n",
    "        return: #age, code, position, segmentation, mask, label\n",
    "        \"\"\"\n",
    "\n",
    "        # extract data\n",
    "        #age = self.age[index][(-self.max_len+1):]\n",
    "        code = self.code[index][(-self.max_len+1):]\n",
    "\n",
    "        # avoid data cut with first element to be 'SEP'\n",
    "        if code[0] != 'SEP':\n",
    "            code = np.append(np.array(['CLS']), code)\n",
    "            #age = np.append(np.array(age[0]), age)\n",
    "        else:\n",
    "            code[0] = 'CLS'\n",
    "\n",
    "        #this might be attention mask    \n",
    "        # mask 0:len(code) to 1, padding to be 0\n",
    "        mask = np.ones(self.max_len)\n",
    "        mask[len(code):] = 0\n",
    "\n",
    "        # pad age sequence and code sequence\n",
    "        #age = seq_padding(age, self.max_len, token2idx=self.age2idx)\n",
    "        print(code)\n",
    "        tokens, code, label = random_mask(code, self.vocab) #code is now a list of token2idx\n",
    "                                                            #label is what we want to predict\n",
    "        print(code)\n",
    "\n",
    "        # get position code\n",
    "        tokens = seq_padding(tokens, self.max_len)\n",
    "        position = position_idx(tokens)\n",
    "        #segment = index_seg(tokens)\n",
    "\n",
    "        # pad code and label\n",
    "        code = seq_padding(code, self.max_len, symbol=self.vocab['PAD'])\n",
    "        label = seq_padding(label, self.max_len, symbol=-1)\n",
    "\n",
    "        return torch.LongTensor(code), torch.LongTensor(position), \\\n",
    "               torch.LongTensor(mask), torch.LongTensor(label)\n",
    "\n",
    "    def __len__(self):\n",
    "        return len(self.code)"
   ]
  },
  {
   "cell_type": "code",
   "execution_count": 286,
   "id": "8fff626e",
   "metadata": {},
   "outputs": [],
   "source": [
    "dataloader = MLMLoader(dataframe,token2idx,15)"
   ]
  },
  {
   "cell_type": "code",
   "execution_count": 287,
   "id": "3a091ef5",
   "metadata": {},
   "outputs": [
    {
     "data": {
      "text/plain": [
       "['abcd', 'efgh', 'ijkl', 'SEP', 'mnop', 'qrst', 'SEP', 'abcd', 'efgh', 'ijkl']"
      ]
     },
     "execution_count": 287,
     "metadata": {},
     "output_type": "execute_result"
    }
   ],
   "source": [
    "dataframe['code'][0]"
   ]
  },
  {
   "cell_type": "code",
   "execution_count": 288,
   "id": "113448a4",
   "metadata": {},
   "outputs": [
    {
     "name": "stdout",
     "output_type": "stream",
     "text": [
      "['CLS' 'abcd' 'efgh' 'ijkl' 'SEP' 'mnop' 'qrst' 'SEP' 'abcd' 'efgh' 'ijkl']\n",
      "[100, 101, 2, 3, 99, 4, 5, 99, 1, 101, 3]\n",
      "['CLS' 'abcd' 'efgh' 'ijkl' 'SEP' 'mnop' 'qrst' 'SEP' 'abcd' 'efgh' 'ijkl']\n"
     ]
    },
    {
     "data": {
      "text/plain": [
       "(tensor([100, 101,   2,   3,  99,   4,   5,  99,   1, 101,   3, 103, 103, 103,\n",
       "         103]),\n",
       " tensor([0, 0, 0, 0, 0, 1, 1, 1, 2, 2, 2, 2, 2, 2, 2]),\n",
       " tensor([1, 1, 1, 1, 1, 1, 1, 1, 1, 1, 1, 0, 0, 0, 0]),\n",
       " tensor([-1,  1, -1, -1, -1, -1, -1, -1, -1,  2, -1, -1, -1, -1, -1]))"
      ]
     },
     "execution_count": 288,
     "metadata": {},
     "output_type": "execute_result"
    }
   ],
   "source": [
    "dataloader[0]"
   ]
  },
  {
   "cell_type": "code",
   "execution_count": 207,
   "id": "89bf34b5",
   "metadata": {},
   "outputs": [
    {
     "data": {
      "text/plain": [
       "['abcd',\n",
       " 'efgh',\n",
       " 'ijkl',\n",
       " 'SEP',\n",
       " 'mnop',\n",
       " 'qrst',\n",
       " 'SEP',\n",
       " 'abcd',\n",
       " 'efgh',\n",
       " 'ijkl',\n",
       " 'mnop',\n",
       " 'fsfe',\n",
       " 'wefe']"
      ]
     },
     "execution_count": 207,
     "metadata": {},
     "output_type": "execute_result"
    }
   ],
   "source": [
    "dataframe['code'][1]"
   ]
  },
  {
   "cell_type": "code",
   "execution_count": 208,
   "id": "7c732ca3",
   "metadata": {
    "scrolled": true
   },
   "outputs": [
    {
     "data": {
      "text/plain": [
       "(tensor([100, 101,   2,   3, 101,   6, 101, 103]),\n",
       " tensor([0, 0, 0, 0, 0, 0, 0, 0]),\n",
       " tensor([1, 1, 1, 1, 1, 1, 1, 0]),\n",
       " tensor([-1,  1, -1, -1,  4, -1,  7, -1]))"
      ]
     },
     "execution_count": 208,
     "metadata": {},
     "output_type": "execute_result"
    }
   ],
   "source": [
    "dataloader[1]"
   ]
  },
  {
   "cell_type": "code",
   "execution_count": 209,
   "id": "80d3a0b9",
   "metadata": {},
   "outputs": [
    {
     "data": {
      "text/plain": [
       "['abcd', 'efgh', 'ijkl', 'SEP', 'mnop', 'qrst', 'SEP', 'abcd', 'efgh', 'ijkl']"
      ]
     },
     "execution_count": 209,
     "metadata": {},
     "output_type": "execute_result"
    }
   ],
   "source": [
    "dataframe['code'][2]"
   ]
  },
  {
   "cell_type": "code",
   "execution_count": 210,
   "id": "5523aa31",
   "metadata": {},
   "outputs": [
    {
     "data": {
      "text/plain": [
       "(tensor([100,   4,   5,  99,   1,   2,   3, 103]),\n",
       " tensor([0, 0, 0, 0, 1, 1, 1, 1]),\n",
       " tensor([1, 1, 1, 1, 1, 1, 1, 0]),\n",
       " tensor([-1, -1, -1, -1, -1, -1, -1, -1]))"
      ]
     },
     "execution_count": 210,
     "metadata": {},
     "output_type": "execute_result"
    }
   ],
   "source": [
    "dataloader[2]"
   ]
  },
  {
   "cell_type": "code",
   "execution_count": null,
   "id": "5a7376b5",
   "metadata": {},
   "outputs": [],
   "source": []
  }
 ],
 "metadata": {
  "kernelspec": {
   "display_name": "Python 3 (ipykernel)",
   "language": "python",
   "name": "python3"
  },
  "language_info": {
   "codemirror_mode": {
    "name": "ipython",
    "version": 3
   },
   "file_extension": ".py",
   "mimetype": "text/x-python",
   "name": "python",
   "nbconvert_exporter": "python",
   "pygments_lexer": "ipython3",
   "version": "3.9.5"
  }
 },
 "nbformat": 4,
 "nbformat_minor": 5
}
